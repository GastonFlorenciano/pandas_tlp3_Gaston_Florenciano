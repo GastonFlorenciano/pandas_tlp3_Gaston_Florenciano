{
 "cells": [
  {
   "cell_type": "markdown",
   "id": "498731c6",
   "metadata": {},
   "source": [
    "# Actividad - Trabajando con Series de Pandas.\n",
    "## Criterios de evaluación.\n",
    "\n",
    "* Se deben utilizar nombres de variables descriptivos y claros (Utilizar la nomeclatura correspondiente para los nombres de variables).\n",
    "* Comentarios claros y concisos que expliquen el propósito de cada sección del código.\n",
    "* Utilizar mensajes de commit **descriptivos**. (Puedes utilizar la extension CONVENTIONAL COMMIT de VS-CODE). \n",
    "* Entrega en tiempo y forma.\n",
    "* Todo el código desarrollado debe ser subido a un repositorio en GitHub (el nombre del repositorio de seguir la siguiente estructura: actividad_tlp3_nombre_apellido).\n",
    "* Para resolver las actividades se debe insertar casillas de codigo entre cada actividad del cuaderno de Jupyter\n",
    "\n",
    "### ¡Importante!\n",
    "**El incumplimiento de los criterios de evaluación restará puntos en la nota final del práctico!**"
   ]
  },
  {
   "cell_type": "markdown",
   "id": "802838c8",
   "metadata": {},
   "source": [
    "#### **IMPORTACIONES:**"
   ]
  },
  {
   "cell_type": "code",
   "execution_count": null,
   "id": "e9b3858e",
   "metadata": {},
   "outputs": [
    {
     "name": "stdout",
     "output_type": "stream",
     "text": [
      "2.2.3\n"
     ]
    }
   ],
   "source": [
    "from pandas import Series"
   ]
  },
  {
   "cell_type": "markdown",
   "id": "b361a7b6",
   "metadata": {},
   "source": [
    "### **Actividad 1:** \n",
    "\n",
    "Crear Series desde diferentes estructuras.\n",
    "* Crea una Series con los números del 1 al 5\n",
    "* Crea una Series a partir de un diccionario con nombres de países como claves y sus capitales como valores."
   ]
  },
  {
   "cell_type": "code",
   "execution_count": 18,
   "id": "26009294",
   "metadata": {},
   "outputs": [
    {
     "name": "stdout",
     "output_type": "stream",
     "text": [
      "0    1\n",
      "1    2\n",
      "2    3\n",
      "3    4\n",
      "4    5\n",
      "dtype: int64\n"
     ]
    }
   ],
   "source": [
    "# todo: 1.1\n",
    "nums = Series([1, 2, 3, 4, 5])\n",
    "print(nums)"
   ]
  },
  {
   "cell_type": "code",
   "execution_count": null,
   "id": "425177f9",
   "metadata": {},
   "outputs": [
    {
     "name": "stdout",
     "output_type": "stream",
     "text": [
      "Argentina    Buenos Aires\n",
      "Brasil           Brasilia\n",
      "Chile            Santiago\n",
      "dtype: object\n",
      "{'Argentina': 'Buenos Aires', 'Brasil': 'Brasilia', 'Chile': 'Santiago'}\n"
     ]
    }
   ],
   "source": [
    "# todo: 1.2\n",
    "dicc = Series({'Argentina': 'Buenos Aires', 'Brasil': 'Brasilia', 'Chile': 'Santiago'})\n",
    "print(dicc)"
   ]
  },
  {
   "cell_type": "markdown",
   "id": "0c239195",
   "metadata": {},
   "source": [
    "### **Actividad 2:** \n",
    "Acceso y selección de elementos.\n",
    "* Usa una Series con tareas (que haceres cotidianos) de una semana\n",
    "* Accede a diferentes elementos a elección.\n",
    "* Cambia los valores de los dias pares.\n"
   ]
  },
  {
   "cell_type": "code",
   "execution_count": null,
   "id": "3611d25a",
   "metadata": {},
   "outputs": [
    {
     "name": "stdout",
     "output_type": "stream",
     "text": [
      "TAREA SEMANALES\n",
      "\n",
      "Lunes           Hacer las compras\n",
      "Martes            Limpiar la casa\n",
      "Miércoles         Estudiar Python\n",
      "Jueves             Ir al gimnasio\n",
      "Viernes             Pagar cuentas\n",
      "Sábado       Visitar a la familia\n",
      "Domingo                 Descansar\n",
      "dtype: object\n",
      "\n",
      "TAREAS DEL FIN DE SEMANA\n",
      "\n",
      "Sábado     Visitar a la familia\n",
      "Domingo               Descansar\n",
      "dtype: object\n",
      "\n",
      "TAREAS SEMANALES ACTUALIZADAS\n",
      "\n",
      "Lunes        Hacer las compras\n",
      "Martes                  Correr\n",
      "Miércoles      Estudiar Python\n",
      "Jueves                    Leer\n",
      "Viernes          Pagar cuentas\n",
      "Sábado        Salir con amigos\n",
      "Domingo              Descansar\n",
      "dtype: object\n"
     ]
    }
   ],
   "source": [
    "# todo: 2.1\n",
    "tasks = Series({\n",
    "    'Lunes': 'Hacer las compras',\n",
    "    'Martes': 'Limpiar la casa',\n",
    "    'Miércoles': 'Estudiar Python',\n",
    "    'Jueves': 'Ir al gimnasio',\n",
    "    'Viernes': 'Pagar cuentas',\n",
    "    'Sábado': 'Visitar a la familia',\n",
    "    'Domingo': 'Descansar'\n",
    "})\n",
    "\n",
    "print('TAREA SEMANALES\\n')\n",
    "print(tasks)\n",
    "\n",
    "# todo: 2.2\n",
    "\n",
    "print('\\nTAREAS DEL FIN DE SEMANA\\n')\n",
    "print(tasks[5:7])\n",
    "\n",
    "# todo: 2.3\n",
    "\n",
    "tasks[1::2] = ['Correr', 'Leer', 'Salir con amigos']\n",
    "print('\\nTAREAS SEMANALES ACTUALIZADAS\\n')\n",
    "print(tasks)\n",
    "\n",
    "\n",
    "\n"
   ]
  },
  {
   "cell_type": "markdown",
   "id": "70a24b97",
   "metadata": {},
   "source": [
    "### **Actividad 3:**\n",
    "Operaciones aritméticas. \n",
    "* Realiza las operaciones basicas con 2 series cuales quieran.\n",
    "* Eleva los valores de la primer serie a 3 potencias difetentes."
   ]
  },
  {
   "cell_type": "code",
   "execution_count": 46,
   "id": "a9c8ebc7",
   "metadata": {},
   "outputs": [
    {
     "name": "stdout",
     "output_type": "stream",
     "text": [
      "SERIE 1\n",
      "\n",
      "0    1\n",
      "1    2\n",
      "2    3\n",
      "3    4\n",
      "4    5\n",
      "dtype: int64\n",
      "\n",
      "SERIE 2\n",
      "\n",
      "0     6\n",
      "1     7\n",
      "2     8\n",
      "3     9\n",
      "4    10\n",
      "dtype: int64\n",
      "\n",
      "SUMA DE SERIES\n",
      "\n",
      "0     7\n",
      "1     9\n",
      "2    11\n",
      "3    13\n",
      "4    15\n",
      "dtype: int64\n",
      "\n",
      "RESTA DE SERIES\n",
      "\n",
      "0   -5\n",
      "1   -5\n",
      "2   -5\n",
      "3   -5\n",
      "4   -5\n",
      "dtype: int64\n",
      "\n",
      "MULTIPLICACION DE SERIES\n",
      "\n",
      "0     6\n",
      "1    14\n",
      "2    24\n",
      "3    36\n",
      "4    50\n",
      "dtype: int64\n",
      "\n",
      "DIVISION DE SERIES\n",
      "\n",
      "0    0.166667\n",
      "1    0.285714\n",
      "2    0.375000\n",
      "3    0.444444\n",
      "4    0.500000\n",
      "dtype: float64\n",
      "\n",
      "SERIE 1 AL CUADRADO\n",
      "\n",
      "0     1\n",
      "1     4\n",
      "2     9\n",
      "3    16\n",
      "4    25\n",
      "dtype: int64\n",
      "\n",
      "SERIE 1 AL CUBO\n",
      "\n",
      "0      1\n",
      "1      8\n",
      "2     27\n",
      "3     64\n",
      "4    125\n",
      "dtype: int64\n",
      "\n",
      "SERIE 1 A LA CUARTA\n",
      "\n",
      "0      1\n",
      "1     16\n",
      "2     81\n",
      "3    256\n",
      "4    625\n",
      "dtype: int64\n"
     ]
    }
   ],
   "source": [
    "# todo: 3.1\n",
    "\n",
    "nums1 = Series([1, 2, 3, 4, 5])\n",
    "nums2 = Series([6, 7, 8, 9, 10])\n",
    "\n",
    "print('SERIE 1\\n')\n",
    "print(nums1)\n",
    "print('\\nSERIE 2\\n')\n",
    "print(nums2)\n",
    "\n",
    "print('\\nSUMA DE SERIES\\n')\n",
    "print(nums1 + nums2)\n",
    "\n",
    "print('\\nRESTA DE SERIES\\n')\n",
    "print(nums1 - nums2)\n",
    "\n",
    "print('\\nMULTIPLICACION DE SERIES\\n')\n",
    "print(nums1 * nums2)\n",
    "\n",
    "print('\\nDIVISION DE SERIES\\n')\n",
    "print(nums1 / nums2)\n",
    "\n",
    "# todo: 3.2\n",
    "\n",
    "print('\\nSERIE 1 AL CUADRADO\\n')\n",
    "print(nums1 ** 2)\n",
    "\n",
    "print('\\nSERIE 1 AL CUBO\\n')\n",
    "print(nums1 ** 3)\n",
    "\n",
    "print('\\nSERIE 1 A LA CUARTA\\n')\n",
    "print(nums1 ** 4)"
   ]
  },
  {
   "cell_type": "markdown",
   "id": "b8dac397",
   "metadata": {},
   "source": [
    "### **Actividad 4:** \n",
    "Filtrado con condiciones.\n",
    "* Crea una Series de edades de 10 personas.\n",
    "* Muestra solo a los mayores de 18.\n",
    "* Reemplaza a los menores por \"Menor de edad\"."
   ]
  },
  {
   "cell_type": "code",
   "execution_count": 52,
   "id": "d04fd492",
   "metadata": {},
   "outputs": [
    {
     "name": "stdout",
     "output_type": "stream",
     "text": [
      "PERSONAS Y SUS EDADES\n",
      "\n",
      "Juan       23\n",
      "Ana        10\n",
      "Pedro      34\n",
      "María      28\n",
      "Luis       29\n",
      "Sofía      13\n",
      "Carlos     18\n",
      "Lucía      12\n",
      "Javier     15\n",
      "Valeria    21\n",
      "dtype: int64\n",
      "\n",
      "MAYORES DE EDAD\n",
      "\n",
      "Juan       23\n",
      "Pedro      34\n",
      "María      28\n",
      "Luis       29\n",
      "Carlos     18\n",
      "Valeria    21\n",
      "dtype: int64\n",
      "\n",
      "LISTA ACTUALIZADA\n",
      "\n",
      "Juan                  23\n",
      "Ana        Menor de edad\n",
      "Pedro                 34\n",
      "María                 28\n",
      "Luis                  29\n",
      "Sofía      Menor de edad\n",
      "Carlos                18\n",
      "Lucía      Menor de edad\n",
      "Javier     Menor de edad\n",
      "Valeria               21\n",
      "dtype: object\n"
     ]
    },
    {
     "name": "stderr",
     "output_type": "stream",
     "text": [
      "C:\\Users\\Gasto\\AppData\\Local\\Temp\\ipykernel_11872\\408315161.py:16: FutureWarning: Setting an item of incompatible dtype is deprecated and will raise an error in a future version of pandas. Value 'Menor de edad' has dtype incompatible with int64, please explicitly cast to a compatible dtype first.\n",
      "  edades[edades < 18] = 'Menor de edad'\n"
     ]
    }
   ],
   "source": [
    "# todo: 4.1\n",
    "\n",
    "edades = Series([23, 10, 34, 28, 29, 13, 18, 12, 15, 21], index=['Juan', 'Ana', 'Pedro', 'María', 'Luis', 'Sofía', 'Carlos', 'Lucía', 'Javier', 'Valeria'])\n",
    "\n",
    "print('PERSONAS Y SUS EDADES\\n')\n",
    "print(edades)\n",
    "\n",
    "# todo: 4.2\n",
    "\n",
    "print('\\nMAYORES DE EDAD\\n')\n",
    "print(edades[edades >= 18])\n",
    "\n",
    "# todo: 4.3\n",
    "\n",
    "print('\\nLISTA ACTUALIZADA\\n')\n",
    "edades[edades < 18] = 'Menor de edad'\n",
    "print(edades)"
   ]
  },
  {
   "cell_type": "markdown",
   "id": "8889d0f2",
   "metadata": {},
   "source": [
    "### Actividad 5:\n",
    "Estadísticas básicas.\n",
    "\n",
    "* Crea una Series con las notas de 10 estudiantes.\n",
    "* Calcula la media, mediana, desviación estándar y máximo.\n",
    "* Muestra cuántos estudiantes aprobaron si el mínimo para aprobar es 6.\n",
    "* Ordenar las notas de manera ascendente y descendente. "
   ]
  },
  {
   "cell_type": "code",
   "execution_count": null,
   "id": "bc0ec844",
   "metadata": {},
   "outputs": [],
   "source": [
    "\n",
    "# todo:\n"
   ]
  }
 ],
 "metadata": {
  "kernelspec": {
   "display_name": "env",
   "language": "python",
   "name": "python3"
  },
  "language_info": {
   "codemirror_mode": {
    "name": "ipython",
    "version": 3
   },
   "file_extension": ".py",
   "mimetype": "text/x-python",
   "name": "python",
   "nbconvert_exporter": "python",
   "pygments_lexer": "ipython3",
   "version": "3.13.2"
  }
 },
 "nbformat": 4,
 "nbformat_minor": 5
}
